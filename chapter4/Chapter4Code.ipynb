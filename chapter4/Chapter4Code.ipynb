{
 "cells": [
  {
   "cell_type": "markdown",
   "metadata": {},
   "source": [
    "# Chapter 4: Your First Artificial Neural Networks"
   ]
  },
  {
   "cell_type": "markdown",
   "metadata": {},
   "source": [
    "In Chapter 4, we focused on how to construct basic artificial intelligence applications,  starting with constructing a basic feed forward network with TensorFlow. Artificial neural networks allow us to define complex non-linear problems, and as we take a dive into the mechanics of true deep learning, you'll begin to see how powerful AI applications can be with deep learning at the core. "
   ]
  },
  {
   "cell_type": "markdown",
   "metadata": {},
   "source": [
    "## Feed Forward Network for MNIST"
   ]
  },
  {
   "cell_type": "markdown",
   "metadata": {},
   "source": [
    "Start with our imports. MNIST is readily available for use within Tensorflow; it's like the \"Hello World\" of deep learning. "
   ]
  },
  {
   "cell_type": "code",
   "execution_count": 3,
   "metadata": {},
   "outputs": [
    {
     "name": "stdout",
     "output_type": "stream",
     "text": [
      "Successfully downloaded train-images-idx3-ubyte.gz 9912422 bytes.\n",
      "Extracting /tmp/data/train-images-idx3-ubyte.gz\n",
      "Successfully downloaded train-labels-idx1-ubyte.gz 28881 bytes.\n",
      "Extracting /tmp/data/train-labels-idx1-ubyte.gz\n",
      "Successfully downloaded t10k-images-idx3-ubyte.gz 1648877 bytes.\n",
      "Extracting /tmp/data/t10k-images-idx3-ubyte.gz\n",
      "Successfully downloaded t10k-labels-idx1-ubyte.gz 4542 bytes.\n",
      "Extracting /tmp/data/t10k-labels-idx1-ubyte.gz\n"
     ]
    }
   ],
   "source": [
    "import tensorflow as tf\n",
    "from tensorflow.examples.tutorials.mnist import input_data\n",
    "mnist = input_data.read_data_sets(\"/tmp/data/\", one_hot=True)"
   ]
  },
  {
   "cell_type": "markdown",
   "metadata": {},
   "source": [
    "Next, we can set up out parameters"
   ]
  },
  {
   "cell_type": "code",
   "execution_count": 4,
   "metadata": {
    "collapsed": true
   },
   "outputs": [],
   "source": [
    "# Layer Sizes, Input Size, and the Size of the total number of classes\n",
    "n_hidden_1 = 256 # 1st layer number of features\n",
    "n_hidden_2 = 256 # 2nd layer number of features\n",
    "n_input = 784 # MNIST data input (img shape: 28*28)\n",
    "n_classes = 10 # MNIST total classes (0-9 digits)\n",
    "\n",
    "\n",
    "# Network Parameters\n",
    "learning_rate = 0.001\n",
    "training_epochs = 15\n",
    "batch_size = 100\n",
    "display_step = 1"
   ]
  },
  {
   "cell_type": "markdown",
   "metadata": {},
   "source": [
    "Next, create the placeholder variables for our network"
   ]
  },
  {
   "cell_type": "code",
   "execution_count": 5,
   "metadata": {
    "collapsed": true
   },
   "outputs": [],
   "source": [
    "# Create the Placeholder Variables\n",
    "x = tf.placeholder(\"float\", [None, n_input])\n",
    "y = tf.placeholder(\"float\", [None, n_classes])"
   ]
  },
  {
   "cell_type": "markdown",
   "metadata": {},
   "source": [
    "Initialize our weight and bias factors in the TensorFlow graph"
   ]
  },
  {
   "cell_type": "code",
   "execution_count": 6,
   "metadata": {
    "collapsed": true
   },
   "outputs": [],
   "source": [
    "weights = {\n",
    " 'h1': tf.Variable(tf.random_normal([n_input, n_hidden_1])), #784x256\n",
    " 'h2': tf.Variable(tf.random_normal([n_hidden_1, n_hidden_2])), #256x256\n",
    " 'out': tf.Variable(tf.random_normal([n_hidden_2, n_classes])) #256x10\n",
    "}\n",
    "biases = {\n",
    " 'b1': tf.Variable(tf.random_normal([n_hidden_1])), #256x1\n",
    " 'b2': tf.Variable(tf.random_normal([n_hidden_2])), #256x1\n",
    " 'out': tf.Variable(tf.random_normal([n_classes])) #10x1\n",
    "}\n"
   ]
  },
  {
   "cell_type": "markdown",
   "metadata": {},
   "source": [
    "Next, let's actually create our basic, feed forward network. "
   ]
  },
  {
   "cell_type": "code",
   "execution_count": 7,
   "metadata": {
    "collapsed": true
   },
   "outputs": [],
   "source": [
    "def feedforward_network(x, weights, biases):\n",
    "    ## First layer; a hidden layer with RELU activation\n",
    "    layer_1 = tf.add(tf.matmul(x, weights['h1']), biases['b1'])    \n",
    "    layer_1 = tf.nn.relu(layer_1)\n",
    "\n",
    "    # Second layer; a hidden layer with RELU activation function\n",
    "    layer_2 = tf.add(tf.matmul(layer_1, weights['h2']),biases['b2']) \n",
    "    layer_2 = tf.nn.relu(layer_2)\n",
    "\n",
    "\n",
    "    # Output layer; utilizes a linear activation function\n",
    "    outputLayer = tf.matmul(layer_2, weights['out']) + biases['out'] \n",
    "    \n",
    "    ## Reutrn the Last Layer\n",
    "    return outputLayer"
   ]
  },
  {
   "cell_type": "markdown",
   "metadata": {},
   "source": [
    "Lastly before training, we'll define our loss and optimizer, and initialize all of the variables"
   ]
  },
  {
   "cell_type": "code",
   "execution_count": null,
   "metadata": {
    "collapsed": true
   },
   "outputs": [],
   "source": [
    "# Construct model\n",
    "pred = feedforward_network(x, weights, biases)\n",
    "\n",
    "# Define the optimizer and the loss function for the network \n",
    "loss_op = tf.reduce_mean(tf.nn.softmax_cross_entropy_with_logits(logits=pred, labels=y))\n",
    "optimizer = tf.train.AdamOptimizer(learning_rate=learning_rate)\n",
    "train_op = optimizer.minimize(loss_op)\n",
    "\n",
    "# Initialize the Tensorflow Variables\n",
    "init = tf.global_variables_initializer()"
   ]
  },
  {
   "cell_type": "markdown",
   "metadata": {},
   "source": [
    "Launch the training process by utilizing a Tensorflow session"
   ]
  },
  {
   "cell_type": "code",
   "execution_count": 15,
   "metadata": {},
   "outputs": [
    {
     "name": "stdout",
     "output_type": "stream",
     "text": [
      "Epoch: 0001 cost=195.176404755\n",
      "Accuracy: 0.8573\n",
      "Epoch: 0002 cost=41.329837662\n",
      "Accuracy: 0.8954\n",
      "Epoch: 0003 cost=26.825957718\n",
      "Accuracy: 0.909\n",
      "Epoch: 0004 cost=18.745037566\n",
      "Accuracy: 0.9193\n",
      "Epoch: 0005 cost=13.856974419\n",
      "Accuracy: 0.9247\n",
      "Epoch: 0006 cost=10.398377342\n",
      "Accuracy: 0.9292\n",
      "Epoch: 0007 cost=7.796720581\n",
      "Accuracy: 0.9309\n",
      "Epoch: 0008 cost=5.936711622\n",
      "Accuracy: 0.934\n",
      "Epoch: 0009 cost=4.320155211\n",
      "Accuracy: 0.9352\n",
      "Epoch: 0010 cost=3.367201917\n",
      "Accuracy: 0.098\n",
      "Epoch: 0011 cost=2.460348041\n",
      "Accuracy: 0.098\n",
      "Epoch: 0012 cost=1.858598225\n",
      "Accuracy: 0.098\n",
      "Epoch: 0013 cost=1.349503601\n",
      "Accuracy: 0.098\n",
      "Epoch: 0014 cost=1.084136149\n",
      "Accuracy: 0.098\n",
      "Epoch: 0015 cost=0.898160186\n",
      "Accuracy: 0.098\n"
     ]
    }
   ],
   "source": [
    "## Run the Traininng Process Using a Tensorflow Session\n",
    "with tf.Session() as sess:\n",
    "    sess.run(init)\n",
    "\n",
    "    # We'll run the training cycle for the amount of epochs that we defined above\n",
    "    for epoch in range(training_epochs):\n",
    "        avg_loss = 0.  # Initialize the loss at zero\n",
    "        total_batch = int(mnist.train.num_examples/batch_size)\n",
    "        \n",
    "        # Now, loop over all of the batches\n",
    "        for i in range(total_batch):\n",
    "            batch_x, batch_y = mnist.train.next_batch(batch_size)\n",
    "            \n",
    "            # Here, we'll run the session by feeding in the optimizer, loss operation, and the batches of data\n",
    "            _, loss = sess.run([train_op, loss_op], feed_dict={x: batch_x, y: batch_y})\n",
    "            \n",
    "            # Compute average loss\n",
    "            avg_loss += loss / total_batch\n",
    "            \n",
    "        # Print out the loss at each step\n",
    "        if epoch % display_step == 0:\n",
    "            print(\"Epoch:\", '%04d' % (epoch+1), \"loss={:.9f}\".format(avg_loss))\n",
    "            \n",
    "        # Test the Model's Accuracy\n",
    "        pred = tf.nn.softmax(pred)  \n",
    "        correct_prediction = tf.equal(tf.argmax(pred, 1), tf.argmax(y, 1))\n",
    "        \n",
    "        # Calculate the accuracy\n",
    "        accuracy = tf.reduce_mean(tf.cast(correct_prediction, \"float\"))\n",
    "        print(\"Accuracy:\", accuracy.eval({x: mnist.test.images, y: mnist.test.labels}))"
   ]
  },
  {
   "cell_type": "markdown",
   "metadata": {
    "collapsed": true
   },
   "source": [
    "## Defining Loss Functions from Scratch"
   ]
  },
  {
   "cell_type": "code",
   "execution_count": null,
   "metadata": {
    "collapsed": true
   },
   "outputs": [],
   "source": [
    "## Cross Entropy Loss from Scratch\n",
    "def CrossEntropy(yHat, y):\n",
    "    if yHat == 1:\n",
    "        return -log(y)\n",
    "    else:\n",
    "        return -log(1 - y)"
   ]
  },
  {
   "cell_type": "markdown",
   "metadata": {
    "collapsed": true
   },
   "source": [
    "## Defining Gradient Descsent from Scratch"
   ]
  },
  {
   "cell_type": "code",
   "execution_count": null,
   "metadata": {
    "collapsed": true
   },
   "outputs": [],
   "source": [
    "## Vanilla Gradient Descent from Scratch\n",
    "def gradientDescent(X, y, theta, alpha, num_iters):\n",
    "    m = y.size  \n",
    "    for i in range(num_iters):\n",
    "        y_hat = np.dot(X, theta)\n",
    "        theta = theta - alpha * (1.0/m) * np.dot(X.T, y_hat-y)\n",
    "    return theta"
   ]
  },
  {
   "cell_type": "code",
   "execution_count": null,
   "metadata": {
    "collapsed": true
   },
   "outputs": [],
   "source": [
    "## Stochastic Gradient Descent from Scratch\n",
    "def SGD(f, theta0, alpha, num_iters):\n",
    "    start_iter = 0\n",
    "    theta= theta0\n",
    "    for iter in xrange(start_iter + 1, num_iters + 1):\n",
    "        _, grad = f(theta)\n",
    "        theta = theta - (alpha * grad) \n",
    "    return theta"
   ]
  },
  {
   "cell_type": "markdown",
   "metadata": {
    "collapsed": true
   },
   "source": [
    "## Defining Activation Functions from Scratch"
   ]
  },
  {
   "cell_type": "code",
   "execution_count": null,
   "metadata": {
    "collapsed": true
   },
   "outputs": [],
   "source": [
    "## Parametric ReLu\n",
    "def parametric_relu(_x):\n",
    " alphas = tf.get_variable('alpha', _x.get_shape()[-1],\n",
    " initializer=tf.constant_initializer(0.0),\n",
    " dtype=tf.float32)\n",
    " pos = tf.nn.relu(_x)\n",
    " neg = alphas * (_x - abs(_x)) * 0.5\n",
    " return pos + neg"
   ]
  }
 ],
 "metadata": {
  "kernelspec": {
   "display_name": "Python 3",
   "language": "python",
   "name": "python3"
  },
  "language_info": {
   "codemirror_mode": {
    "name": "ipython",
    "version": 3
   },
   "file_extension": ".py",
   "mimetype": "text/x-python",
   "name": "python",
   "nbconvert_exporter": "python",
   "pygments_lexer": "ipython3",
   "version": "3.6.1"
  }
 },
 "nbformat": 4,
 "nbformat_minor": 2
}
